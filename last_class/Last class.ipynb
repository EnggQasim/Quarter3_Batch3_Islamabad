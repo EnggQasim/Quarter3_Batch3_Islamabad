{
 "cells": [
  {
   "cell_type": "code",
   "execution_count": null,
   "metadata": {},
   "outputs": [],
   "source": [
    "MIT youtube\n",
    "1) Reinforcement Learning (Q-Learning)\n",
    "2) GNN \n",
    "3) GPT3\n",
    "\n",
    "\n",
    "https://www.coursera.org/professional-certificates/tensorflow-in-practice \n",
    "    \n",
    "https://www.udacity.com/course/intro-to-tensorflow-for-deep-learning--ud187     "
   ]
  }
 ],
 "metadata": {
  "kernelspec": {
   "display_name": "Python 3",
   "language": "python",
   "name": "python3"
  },
  "language_info": {
   "codemirror_mode": {
    "name": "ipython",
    "version": 3
   },
   "file_extension": ".py",
   "mimetype": "text/x-python",
   "name": "python",
   "nbconvert_exporter": "python",
   "pygments_lexer": "ipython3",
   "version": "3.7.6"
  }
 },
 "nbformat": 4,
 "nbformat_minor": 4
}
